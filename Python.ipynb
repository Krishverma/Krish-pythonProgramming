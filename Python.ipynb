{
 "cells": [
  {
   "cell_type": "code",
   "execution_count": 23,
   "id": "51115d59",
   "metadata": {},
   "outputs": [
    {
     "name": "stdout",
     "output_type": "stream",
     "text": [
      "Make: Ferrari\n",
      "Model: SF 90 Stradale\n",
      "Year: 2022\n"
     ]
    }
   ],
   "source": [
    "class Car:\n",
    "    def __init__(self, make, model, year):\n",
    "        self.make = make\n",
    "        self.model = model\n",
    "        self.year = year\n",
    "\n",
    "    def display_info(self):\n",
    "        print(f\"Make: {self.make}\")\n",
    "        print(f\"Model: {self.model}\")\n",
    "        print(f\"Year: {self.year}\")\n",
    "\n",
    "my_car = Car(\"Ferrari\", \"SF 90 Stradale\", 2022)\n",
    "\n",
    "my_car.display_info()\n"
   ]
  },
  {
   "cell_type": "code",
   "execution_count": 9,
   "id": "bc3fb16c",
   "metadata": {},
   "outputs": [
    {
     "name": "stdout",
     "output_type": "stream",
     "text": [
      "Default constructor called.\n",
      "Parameterized constructor called.\n",
      "Value: 42\n"
     ]
    }
   ],
   "source": [
    "class MyClass1:\n",
    "    def __init__(self):\n",
    "        print(\"Default constructor called.\")\n",
    "        \n",
    "class MyClass2:\n",
    "    def __init__(self, value):\n",
    "        self.value = value\n",
    "        print(\"Parameterized constructor called.\")\n",
    "        \n",
    "    def display(self):\n",
    "        print(f\"Value: {self.value}\")\n",
    "        \n",
    "class MyClass3:\n",
    "    def __del__(self):\n",
    "        print(\"Destructor called.\")\n",
    "\n",
    "obj1 = MyClass1()\n",
    "\n",
    "obj2 = MyClass2(42)\n",
    "obj2.display()\n",
    "\n",
    "obj3 = MyClass3()"
   ]
  },
  {
   "cell_type": "code",
   "execution_count": 10,
   "id": "6a66b0cd",
   "metadata": {},
   "outputs": [
    {
     "name": "stdout",
     "output_type": "stream",
     "text": [
      "Area: 20\n"
     ]
    }
   ],
   "source": [
    "class Rectangle:\n",
    "    def __init__(self, length, width):\n",
    "        self.length = length\n",
    "        self.width = width\n",
    "\n",
    "    def area(self):\n",
    "        return self.length * self.width\n",
    "\n",
    "rectangle = Rectangle(4, 5)\n",
    "\n",
    "print(\"Area:\", rectangle.area())\n"
   ]
  },
  {
   "cell_type": "code",
   "execution_count": 17,
   "id": "c469fffc",
   "metadata": {},
   "outputs": [
    {
     "name": "stdout",
     "output_type": "stream",
     "text": [
      "Enter the value for x: 32\n",
      "Enter the value for y: 14\n",
      "x: 32\n",
      "y: 14\n",
      "MULTIPLIER: 2\n",
      "Sum of x and y: 46\n",
      "Enter a number for multiplication: 112\n",
      "Product of a and MULTIPLIER: 224\n",
      "Enter the value for b: 34\n",
      "Enter the value for c: 32\n",
      "Difference between b and c: 2\n",
      "Values of x and y: (32, 14)\n"
     ]
    }
   ],
   "source": [
    "class Numbers:\n",
    "    MULTIPLIER = 2\n",
    "\n",
    "    def __init__(self, x, y):\n",
    "        self.x = x\n",
    "        self.y = y\n",
    "    \n",
    "    def add(self):\n",
    "        return self.x + self.y\n",
    "    \n",
    "    @classmethod\n",
    "    def multiply(cls, a):\n",
    "        return a * cls.MULTIPLIER\n",
    "    \n",
    "    @staticmethod\n",
    "    def subtract(b, c):\n",
    "        return b - c\n",
    "    \n",
    "    def value(self):\n",
    "        return (self.x, self.y)\n",
    "    \n",
    "x = int(input(\"Enter the value for x: \"))\n",
    "y = int(input(\"Enter the value for y: \"))\n",
    "\n",
    "numbers = Numbers(x, y)\n",
    "\n",
    "print(\"x:\", numbers.x)\n",
    "print(\"y:\", numbers.y)\n",
    "\n",
    "print(\"MULTIPLIER:\", Numbers.MULTIPLIER)\n",
    "\n",
    "result = numbers.add()\n",
    "print(\"Sum of x and y:\", result)\n",
    "\n",
    "a = int(input(\"Enter a number for multiplication: \"))\n",
    "result_multiply = Numbers.multiply(a)\n",
    "print(\"Product of a and MULTIPLIER:\", result_multiply)\n",
    "\n",
    "b = int(input(\"Enter the value for b: \"))\n",
    "c = int(input(\"Enter the value for c: \"))\n",
    "result_subtract = Numbers.subtract(b, c)\n",
    "print(\"Difference between b and c:\", result_subtract)\n",
    "\n",
    "values = numbers.value()\n",
    "print(\"Values of x and y:\", values)"
   ]
  },
  {
   "cell_type": "code",
   "execution_count": 19,
   "id": "58e3b75e",
   "metadata": {
    "scrolled": true
   },
   "outputs": [
    {
     "name": "stdout",
     "output_type": "stream",
     "text": [
      "Enter the student's name: Ram\n",
      "Enter the marks for subject 1: 65\n",
      "Enter the marks for subject 2: 73\n",
      "Enter the marks for subject 3: 99\n",
      "Student Information:\n",
      "Name: Ram\n",
      "Marks: [65.0, 73.0, 99.0]\n",
      "Total Marks: 237.0\n",
      "Average Marks: 79.0\n"
     ]
    }
   ],
   "source": [
    "class Student:\n",
    "    def __init__(self, name, marks):\n",
    "        self.name = name\n",
    "        self.marks = marks\n",
    "\n",
    "    def compute(self):\n",
    "        total_marks = sum(self.marks)\n",
    "        average_marks = total_marks / len(self.marks)\n",
    "        return total_marks, average_marks\n",
    "\n",
    "    def display(self):\n",
    "        print(\"Student Information:\")\n",
    "        print(\"Name:\", self.name)\n",
    "        print(\"Marks:\", self.marks)\n",
    "        total, average = self.compute()\n",
    "        print(\"Total Marks:\", total)\n",
    "        print(\"Average Marks:\", average)\n",
    "\n",
    "name = input(\"Enter the student's name: \")\n",
    "\n",
    "marks = []\n",
    "for i in range(3):\n",
    "    subject_mark = float(input(f\"Enter the marks for subject {i+1}: \"))\n",
    "    marks.append(subject_mark)\n",
    "\n",
    "student = Student(name, marks)\n",
    "student.display()\n"
   ]
  },
  {
   "cell_type": "code",
   "execution_count": 21,
   "id": "2bd1e923",
   "metadata": {},
   "outputs": [
    {
     "name": "stdout",
     "output_type": "stream",
     "text": [
      "Enter the employee's name: Ram\n",
      "Enter the employee's designation: CMO\n",
      "Enter the employee's salary: 100000\n",
      "Employee Information:\n",
      "Name: Ram\n",
      "Designation: CMO\n",
      "Salary: $100000.0\n",
      "Number of Employees: 1\n"
     ]
    }
   ],
   "source": [
    "class Employee:\n",
    "    num_employees = 0\n",
    "\n",
    "    def __init__(self, name, designation, salary):\n",
    "        self.name = name\n",
    "        self.designation = designation\n",
    "        self.salary = salary\n",
    "        Employee.num_employees += 1\n",
    "\n",
    "    @classmethod\n",
    "    def getdata(cls):\n",
    "        name = input(\"Enter the employee's name: \")\n",
    "        designation = input(\"Enter the employee's designation: \")\n",
    "        salary = float(input(\"Enter the employee's salary: \"))\n",
    "        return cls(name, designation, salary)\n",
    "    \n",
    "    @classmethod\n",
    "    def get_num_employees(cls):\n",
    "        return cls.num_employees\n",
    "\n",
    "    @classmethod\n",
    "    def average_salary(cls):\n",
    "        if cls.num_employees == 0:\n",
    "            return 0\n",
    "        else:\n",
    "            return cls.total_salary / cls.num_employees\n",
    "        \n",
    "    def display(self):\n",
    "        print(\"Employee Information:\")\n",
    "        print(f\"Name: {self.name}\")\n",
    "        print(f\"Designation: {self.designation}\")\n",
    "        print(f\"Salary: ${self.salary}\")\n",
    "        \n",
    "employee = Employee.getdata()\n",
    "\n",
    "employee.display()\n",
    "\n",
    "num_employees = Employee.get_num_employees()\n",
    "print(\"Number of Employees:\", num_employees)\n"
   ]
  },
  {
   "cell_type": "code",
   "execution_count": 32,
   "id": "f869ea78",
   "metadata": {},
   "outputs": [
    {
     "name": "stdout",
     "output_type": "stream",
     "text": [
      "Enter Radius: 7\n",
      "Circle Information:\n",
      "Radius: 7\n",
      "Area: 153.86\n",
      "Circumference: 43.96\n"
     ]
    }
   ],
   "source": [
    "class Circle:\n",
    "    PI = 3.14\n",
    "\n",
    "    def __init__(self, radius):\n",
    "        self.radius = radius\n",
    "\n",
    "    def calculate_area(self):\n",
    "        return Circle.PI * (self.radius ** 2)\n",
    "\n",
    "    def calculate_circumference(self):\n",
    "        return 2 * Circle.PI * self.radius\n",
    "\n",
    "    def display(self):\n",
    "        area = self.calculate_area()\n",
    "        circumference = self.calculate_circumference()\n",
    "        print(\"Circle Information:\")\n",
    "        print(f\"Radius: {self.radius}\")\n",
    "        print(f\"Area: {area:.2f}\")\n",
    "        print(f\"Circumference: {circumference:.2f}\")\n",
    "\n",
    "radius = int(input(\"Enter Radius: \"))\n",
    "\n",
    "obj = Circle(radius)\n",
    "obj.display()"
   ]
  },
  {
   "cell_type": "code",
   "execution_count": 10,
   "id": "bf75f9ea",
   "metadata": {},
   "outputs": [
    {
     "name": "stdout",
     "output_type": "stream",
     "text": [
      "Enter a string: Krish Verma\n",
      "Uppercase letters: 2\n",
      "Lowercase letters: 8\n",
      "Vowels: 3\n",
      "Consonants: 7\n",
      "Spaces: 1\n"
     ]
    }
   ],
   "source": [
    "class String:\n",
    "    def __init__(self):\n",
    "        self.string = input(\"Enter a string: \")\n",
    "        self.uppercase_letters = 0\n",
    "        self.lowercase_letters = 0\n",
    "        self.vowels = 0\n",
    "        self.consonants = 0\n",
    "        self.spaces = 0\n",
    "        self.calculate_status()\n",
    "\n",
    "    def calculate_status(self):\n",
    "        for char in self.string:\n",
    "            if char.isupper():\n",
    "                self.uppercase_letters += 1\n",
    "            elif char.islower():\n",
    "                self.lowercase_letters += 1\n",
    "            if char.lower() in 'aeiou':\n",
    "                self.vowels += 1\n",
    "            elif char.isalpha():\n",
    "                self.consonants += 1\n",
    "            elif char.isspace():\n",
    "                self.spaces += 1\n",
    "                \n",
    "    def display(self):\n",
    "        print(\"Uppercase letters:\", my_string.uppercase_letters)\n",
    "        print(\"Lowercase letters:\", my_string.lowercase_letters)\n",
    "        print(\"Vowels:\", my_string.vowels)\n",
    "        print(\"Consonants:\", my_string.consonants)\n",
    "        print(\"Spaces:\", my_string.spaces)\n",
    "\n",
    "my_string = String()\n",
    "my_string.display()"
   ]
  },
  {
   "cell_type": "code",
   "execution_count": 6,
   "id": "5e7f57fb",
   "metadata": {},
   "outputs": [
    {
     "name": "stdout",
     "output_type": "stream",
     "text": [
      "Enter the numerator: 63\n",
      "Enter the denominator: 28\n",
      "Simplified Fraction: 9/4\n"
     ]
    }
   ],
   "source": [
    "class Fraction:\n",
    "    def __init__(self):\n",
    "        self.numerator = 0\n",
    "        self.denominator = 1\n",
    "\n",
    "    def getdata(self):\n",
    "        self.numerator = int(input(\"Enter the numerator: \"))\n",
    "        self.denominator = int(input(\"Enter the denominator: \"))\n",
    "\n",
    "    def calculate_gcd(self, a, b):\n",
    "        if b == 0:\n",
    "            return a\n",
    "        return self.calculate_gcd(b, a % b)\n",
    "\n",
    "    def simplify_fraction(self):\n",
    "        gcd = self.calculate_gcd(self.numerator, self.denominator)\n",
    "        self.numerator //= gcd\n",
    "        self.denominator //= gcd\n",
    "\n",
    "    def show(self):\n",
    "        print(f\"Simplified Fraction: {self.numerator}/{self.denominator}\")\n",
    "\n",
    "my_fraction = Fraction()\n",
    "my_fraction.getdata()\n",
    "my_fraction.simplify_fraction()\n",
    "my_fraction.show()\n"
   ]
  },
  {
   "cell_type": "code",
   "execution_count": 14,
   "id": "d4cfb3f9",
   "metadata": {},
   "outputs": [
    {
     "name": "stdout",
     "output_type": "stream",
     "text": [
      "Enter comma seperated values: 5,54,100,23\n",
      "100\n"
     ]
    }
   ],
   "source": [
    "class Numbers:\n",
    "    def __init__(self):\n",
    "        self.num_list = []\n",
    "\n",
    "    def insert_element(self):\n",
    "        num = str(input(\"Enter comma seperated values: \"))\n",
    "        self.num_list=num.split(\",\")\n",
    "\n",
    "    def find_max(self):\n",
    "        a=0\n",
    "        for i in self.num_list:\n",
    "            if int(i)>a:\n",
    "                a=int(i)\n",
    "            else:\n",
    "                pass\n",
    "        print(a)\n",
    "\n",
    "my_numbers = Numbers()\n",
    "my_numbers.insert_element()\n",
    "my_numbers.find_max()\n"
   ]
  },
  {
   "cell_type": "code",
   "execution_count": 2,
   "id": "6c47571b",
   "metadata": {},
   "outputs": [
    {
     "name": "stdout",
     "output_type": "stream",
     "text": [
      "Enter x1:5\n",
      "Enter x2:8\n",
      "Enter y1:3\n",
      "Enter y2:7\n",
      "Midpoints are: (6.5, 5.0)\n",
      "Lenght of line: 5.0\n"
     ]
    }
   ],
   "source": [
    "class Point:\n",
    "    def __init__(self):\n",
    "        self.x1=int(input(\"Enter x1:\"))\n",
    "        self.x2=int(input(\"Enter x2:\"))\n",
    "        self.y1=int(input(\"Enter y1:\"))\n",
    "        self.y2=int(input(\"Enter y2:\"))\n",
    "        \n",
    "    def midpoint(self):\n",
    "        p1=(self.x1+self.x2)/2\n",
    "        p2=(self.y1+self.y2)/2\n",
    "        print(\"Midpoints are:\",(p1,p2))\n",
    "    \n",
    "    def length(self):\n",
    "        l=((self.x2-self.x1)**2+(self.y2-self.y1)**2)**0.5\n",
    "        print(\"Lenght of line:\",l)\n",
    "\n",
    "obj=Point()\n",
    "obj.midpoint()\n",
    "obj.length()"
   ]
  },
  {
   "cell_type": "code",
   "execution_count": 8,
   "id": "858f7530",
   "metadata": {},
   "outputs": [
    {
     "name": "stdout",
     "output_type": "stream",
     "text": [
      "Enter a1 in form(a+ij):: 2\n",
      "Enter i1 in form(a+ij):: 4\n",
      "Enter a2 in form(a+ij):: 3\n",
      "Enter i2 in form(a+ij):: 6\n",
      "::Welcome to Menu Driven Programme::\n",
      "Press 1 for read complex method\n",
      "Press 2 for display Sum and Subtraction of both complex numbers\n",
      "\n",
      "Enter command based on above information:2\n",
      "Addition of (2+4j) and (3+6j) is:\t (5+10j)\n",
      "Substraction of (2+4j) and (3+6j) is:\t (-1-2j)\n"
     ]
    }
   ],
   "source": [
    "class Complex():\n",
    "    def __init__(self):\n",
    "        \n",
    "        self.a1=int(input(\"Enter a1 in form(a+ij):: \"))\n",
    "        self.i1=int(input(\"Enter i1 in form(a+ij):: \"))\n",
    "        self.a2=int(input(\"Enter a2 in form(a+ij):: \"))\n",
    "        self.i2=int(input(\"Enter i2 in form(a+ij):: \"))\n",
    "        \n",
    "        print(\"::Welcome to Menu Driven Programme::\")\n",
    "        print(\"Press 1 for read complex method\")\n",
    "        print(\"Press 2 for display Sum and Subtraction of both complex numbers\")\n",
    "        \n",
    "        a=int(input(\"\\nEnter command based on above information:\"))\n",
    "        \n",
    "        if a==1:\n",
    "            Complex.read(self)\n",
    "        elif a==2:\n",
    "            Complex.display(self)\n",
    "        else:\n",
    "            print(\":You have given wrong Command:\")\n",
    "\n",
    "    def read(self):\n",
    "        print(\"a-\\t\",complex(self.a1,self.i1))\n",
    "        print(\"b-\\t\",complex(self.a2,self.i2))\n",
    "        \n",
    "    def add(self):\n",
    "        return(complex(self.a1,self.i1)+complex(self.a2,self.i2))\n",
    "    \n",
    "    def subtract(self):\n",
    "        return(complex(self.a1,self.i1)-complex(self.a2,self.i2))\n",
    "        \n",
    "    def display(self):\n",
    "        \n",
    "        print(\"Addition of\",complex(self.a1,self.i1),\"and\",complex(self.a2,self.i2),\"is:\\t\",Complex.add(self))\n",
    "        \n",
    "        print(\"Substraction of\",complex(self.a1,self.i1),\"and\",complex(self.a2,self.i2),\"is:\\t\",Complex.subtract(self))\n",
    "        \n",
    "obj=Complex()\n",
    "        "
   ]
  },
  {
   "cell_type": "code",
   "execution_count": 1,
   "id": "4d1bcdf1",
   "metadata": {},
   "outputs": [
    {
     "name": "stdout",
     "output_type": "stream",
     "text": [
      "Creating a new instance of Person...\n",
      "Person: John, Age: 30\n",
      "Creating a new instance of Person...\n",
      "Person: John, Age: 30\n",
      "This class represents a person.\n",
      "{'attribute': 'value'}\n",
      "Person\n",
      "(<class '__main__.Person'>,)\n"
     ]
    }
   ],
   "source": [
    "class Person:\n",
    "    def __init__(self, name, age):\n",
    "        self.name = name\n",
    "        self.age = age\n",
    "\n",
    "    def __str__(self):\n",
    "        return f\"Person: {self.name}, Age: {self.age}\"\n",
    "\n",
    "    def __repr__(self):\n",
    "        return f\"Person('{self.name}', {self.age})\"\n",
    "\n",
    "    def __new__(cls, *args, **kwargs):\n",
    "        print(\"Creating a new instance of Person...\")\n",
    "        instance = object.__new__(cls)\n",
    "        return instance\n",
    "\n",
    "    __doc__ = \"This class represents a person.\"\n",
    "    __dict__ = {'attribute': 'value'}\n",
    "\n",
    "\n",
    "class Employee(Person):\n",
    "    pass\n",
    "\n",
    "\n",
    "if __name__ == '__main__':\n",
    "    p1 = Person('John', 30)\n",
    "    print(p1)\n",
    "\n",
    "    p2 = eval(repr(p1))\n",
    "    print(p2)\n",
    "\n",
    "    print(p1.__doc__)\n",
    "    print(p1.__dict__)\n",
    "\n",
    "    print(Person.__name__)\n",
    "    print(Employee.__bases__)\n"
   ]
  },
  {
   "cell_type": "code",
   "execution_count": 2,
   "id": "7f5beb62",
   "metadata": {},
   "outputs": [
    {
     "name": "stdout",
     "output_type": "stream",
     "text": [
      "Deposit of 1000 successful. New balance: 1000\n",
      "Withdrawal of 500 successful. New balance: 500\n",
      "Account Balance: 500\n"
     ]
    }
   ],
   "source": [
    "class BankAccount:\n",
    "    def __init__(self, account_no):\n",
    "        self.account_no = account_no\n",
    "        self.balance = 0\n",
    "\n",
    "    def deposit(self, account_no, amount):\n",
    "        if account_no == self.account_no:\n",
    "            if amount > 0:\n",
    "                self.balance += amount\n",
    "                print(f\"Deposit of {amount} successful. New balance: {self.balance}\")\n",
    "            else:\n",
    "                print(\"Invalid amount. Please enter a positive value.\")\n",
    "        else:\n",
    "            print(\"Invalid account number. Deposit failed.\")\n",
    "\n",
    "    def withdraw(self, account_no, amount):\n",
    "        if account_no == self.account_no:\n",
    "            if 0 < amount <= self.balance:\n",
    "                self.balance -= amount\n",
    "                print(f\"Withdrawal of {amount} successful. New balance: {self.balance}\")\n",
    "            else:\n",
    "                print(\"Insufficient balance or invalid amount.\")\n",
    "        else:\n",
    "            print(\"Invalid account number. Withdrawal failed.\")\n",
    "\n",
    "    def get_balance(self, account_no):\n",
    "        if account_no == self.account_no:\n",
    "            print(f\"Account Balance: {self.balance}\")\n",
    "        else:\n",
    "            print(\"Invalid account number.\")\n",
    "\n",
    "account = BankAccount(\"12345\")\n",
    "account.deposit(\"12345\", 1000)\n",
    "account.withdraw(\"12345\", 500)\n",
    "account.get_balance(\"12345\")"
   ]
  },
  {
   "cell_type": "code",
   "execution_count": 3,
   "id": "c72ce8a4",
   "metadata": {},
   "outputs": [
    {
     "name": "stdout",
     "output_type": "stream",
     "text": [
      "Does person have 'name'? True\n",
      "Does person have 'gender'? False\n",
      "The name of the person is: John\n",
      "The age of the person is: 25\n",
      "The gender of the person is: Unknown\n",
      "The updated age of the person is: 30\n",
      "The gender of the person is: Male\n",
      "Does person have 'age' after deletion? False\n"
     ]
    }
   ],
   "source": [
    "class Person:\n",
    "    def __init__(self, name, age):\n",
    "        self.name = name\n",
    "        self.age = age\n",
    "\n",
    "person = Person(\"John\", 25)\n",
    "\n",
    "print(f\"Does person have 'name'? {hasattr(person, 'name')}\")\n",
    "print(f\"Does person have 'gender'? {hasattr(person, 'gender')}\")\n",
    "\n",
    "print(f\"The name of the person is: {getattr(person, 'name')}\")\n",
    "print(f\"The age of the person is: {getattr(person, 'age')}\")\n",
    "\n",
    "print(f\"The gender of the person is: {getattr(person, 'gender', 'Unknown')}\")\n",
    "\n",
    "\n",
    "setattr(person, 'age', 30)\n",
    "setattr(person, 'gender', 'Male')\n",
    "\n",
    "print(f\"The updated age of the person is: {getattr(person, 'age')}\")\n",
    "print(f\"The gender of the person is: {getattr(person, 'gender')}\")\n",
    "\n",
    "delattr(person, 'age')\n",
    "print(f\"Does person have 'age' after deletion? {hasattr(person, 'age')}\")\n"
   ]
  },
  {
   "cell_type": "code",
   "execution_count": null,
   "id": "668b8361",
   "metadata": {},
   "outputs": [],
   "source": []
  }
 ],
 "metadata": {
  "kernelspec": {
   "display_name": "Python 3 (ipykernel)",
   "language": "python",
   "name": "python3"
  },
  "language_info": {
   "codemirror_mode": {
    "name": "ipython",
    "version": 3
   },
   "file_extension": ".py",
   "mimetype": "text/x-python",
   "name": "python",
   "nbconvert_exporter": "python",
   "pygments_lexer": "ipython3",
   "version": "3.9.13"
  }
 },
 "nbformat": 4,
 "nbformat_minor": 5
}
